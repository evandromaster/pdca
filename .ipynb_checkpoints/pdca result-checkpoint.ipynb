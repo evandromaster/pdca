{
 "cells": [
  {
   "cell_type": "code",
   "execution_count": 1,
   "metadata": {},
   "outputs": [
    {
     "name": "stdout",
     "output_type": "stream",
     "text": [
      "WARNING *** OLE2 inconsistency: SSCS size is 0 but SSAT size is non-zero\n",
      "WARNING *** OLE2 inconsistency: SSCS size is 0 but SSAT size is non-zero\n",
      "WARNING *** OLE2 inconsistency: SSCS size is 0 but SSAT size is non-zero\n",
      "WARNING *** OLE2 inconsistency: SSCS size is 0 but SSAT size is non-zero\n",
      "WARNING *** OLE2 inconsistency: SSCS size is 0 but SSAT size is non-zero\n",
      "WARNING *** OLE2 inconsistency: SSCS size is 0 but SSAT size is non-zero\n",
      "WARNING *** OLE2 inconsistency: SSCS size is 0 but SSAT size is non-zero\n",
      "Arquivos Lidos com sucesso!!!...\n"
     ]
    }
   ],
   "source": [
    "import pandas as pd\n",
    "import numpy as np\n",
    "#dir_dba = r'E:\\MEGA\\PMMG\\MySql\\10 - Tbl_dimensao\\pdca\\tbl_base_PDCA_2020.xls'#Home\n",
    "dir_dba = r'C:\\Users\\Geo\\Documents\\MEGAsync\\MySql\\10 - Tbl_dimensao\\pdca\\tbl_base_PDCA_2020.xls'#Office\n",
    "df_ocorrencias = pd.read_excel(dir_dba, sheet_name='tbl_ocorrencias')\n",
    "df_armas_fgo = pd.read_excel(dir_dba, sheet_name='tbl_armas_fgo')\n",
    "df_envolvidos = pd.read_excel(dir_dba, sheet_name='tbl_envolvidos')\n",
    "df_veiculos = pd.read_excel(dir_dba, sheet_name='tbl_veiculos')\n",
    "df_materiais = pd.read_excel(dir_dba, sheet_name='tbl_materiais')\n",
    "df_infracoes = pd.read_excel(dir_dba, sheet_name='tbl_infracoes')\n",
    "df_integrantes = pd.read_excel(dir_dba, sheet_name='tbl_integrantes')\n",
    "print(\"Arquivos Lidos com sucesso!!!...\")"
   ]
  },
  {
   "cell_type": "code",
   "execution_count": 2,
   "metadata": {
    "scrolled": true
   },
   "outputs": [],
   "source": [
    "df_ocorrencias.columns = df_ocorrencias.columns.str.replace(' ', '_')\n",
    "df_ocorrencias.columns = df_ocorrencias.columns.str.upper()\n",
    "df_armas_fgo.columns = df_armas_fgo.columns.str.replace(' ', '_')\n",
    "df_armas_fgo.columns = df_armas_fgo.columns.str.upper()\n",
    "df_envolvidos.columns = df_envolvidos.columns.str.replace(' ', '_')\n",
    "df_envolvidos.columns = df_envolvidos.columns.str.upper()\n",
    "#df_envolvidos.columns"
   ]
  },
  {
   "cell_type": "code",
   "execution_count": 3,
   "metadata": {},
   "outputs": [
    {
     "data": {
      "text/html": [
       "<div>\n",
       "<style scoped>\n",
       "    .dataframe tbody tr th:only-of-type {\n",
       "        vertical-align: middle;\n",
       "    }\n",
       "\n",
       "    .dataframe tbody tr th {\n",
       "        vertical-align: top;\n",
       "    }\n",
       "\n",
       "    .dataframe thead th {\n",
       "        text-align: right;\n",
       "    }\n",
       "</style>\n",
       "<table border=\"1\" class=\"dataframe\">\n",
       "  <thead>\n",
       "    <tr style=\"text-align: right;\">\n",
       "      <th></th>\n",
       "      <th>NÚMERO_REDS</th>\n",
       "      <th>PRESOS</th>\n",
       "    </tr>\n",
       "  </thead>\n",
       "  <tbody>\n",
       "    <tr>\n",
       "      <th>0</th>\n",
       "      <td>2020-019637565-001</td>\n",
       "      <td>1</td>\n",
       "    </tr>\n",
       "    <tr>\n",
       "      <th>1</th>\n",
       "      <td>2020-031421003-001</td>\n",
       "      <td>2</td>\n",
       "    </tr>\n",
       "    <tr>\n",
       "      <th>2</th>\n",
       "      <td>2020-031432555-001</td>\n",
       "      <td>1</td>\n",
       "    </tr>\n",
       "    <tr>\n",
       "      <th>3</th>\n",
       "      <td>2020-031440038-001</td>\n",
       "      <td>1</td>\n",
       "    </tr>\n",
       "    <tr>\n",
       "      <th>4</th>\n",
       "      <td>2020-031440404-001</td>\n",
       "      <td>1</td>\n",
       "    </tr>\n",
       "    <tr>\n",
       "      <th>...</th>\n",
       "      <td>...</td>\n",
       "      <td>...</td>\n",
       "    </tr>\n",
       "    <tr>\n",
       "      <th>873</th>\n",
       "      <td>2020-036427310-001</td>\n",
       "      <td>1</td>\n",
       "    </tr>\n",
       "    <tr>\n",
       "      <th>874</th>\n",
       "      <td>2020-036436600-001</td>\n",
       "      <td>2</td>\n",
       "    </tr>\n",
       "    <tr>\n",
       "      <th>875</th>\n",
       "      <td>2020-036441790-001</td>\n",
       "      <td>1</td>\n",
       "    </tr>\n",
       "    <tr>\n",
       "      <th>876</th>\n",
       "      <td>2020-036445379-001</td>\n",
       "      <td>1</td>\n",
       "    </tr>\n",
       "    <tr>\n",
       "      <th>877</th>\n",
       "      <td>2020-036449850-001</td>\n",
       "      <td>1</td>\n",
       "    </tr>\n",
       "  </tbody>\n",
       "</table>\n",
       "<p>878 rows × 2 columns</p>\n",
       "</div>"
      ],
      "text/plain": [
       "            NÚMERO_REDS  PRESOS\n",
       "0    2020-019637565-001       1\n",
       "1    2020-031421003-001       2\n",
       "2    2020-031432555-001       1\n",
       "3    2020-031440038-001       1\n",
       "4    2020-031440404-001       1\n",
       "..                  ...     ...\n",
       "873  2020-036427310-001       1\n",
       "874  2020-036436600-001       2\n",
       "875  2020-036441790-001       1\n",
       "876  2020-036445379-001       1\n",
       "877  2020-036449850-001       1\n",
       "\n",
       "[878 rows x 2 columns]"
      ]
     },
     "execution_count": 3,
     "metadata": {},
     "output_type": "execute_result"
    }
   ],
   "source": [
    "df_envolvidos[df_envolvidos['PRISÃO_/_APREENSÃO']=='FLAGRANTE DE CRIME / CONTRAVENCAO']\\\n",
    "                .groupby(['NÚMERO_REDS']).size().to_frame('PRESOS').reset_index() "
   ]
  }
 ],
 "metadata": {
  "kernelspec": {
   "display_name": "Python 3",
   "language": "python",
   "name": "python3"
  },
  "language_info": {
   "codemirror_mode": {
    "name": "ipython",
    "version": 3
   },
   "file_extension": ".py",
   "mimetype": "text/x-python",
   "name": "python",
   "nbconvert_exporter": "python",
   "pygments_lexer": "ipython3",
   "version": "3.7.7"
  }
 },
 "nbformat": 4,
 "nbformat_minor": 4
}
