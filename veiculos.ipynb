{
 "cells": [
  {
   "cell_type": "code",
   "execution_count": 7,
   "metadata": {},
   "outputs": [
    {
     "name": "stdout",
     "output_type": "stream",
     "text": [
      "WARNING *** OLE2 inconsistency: SSCS size is 0 but SSAT size is non-zero\n",
      "WARNING *** OLE2 inconsistency: SSCS size is 0 but SSAT size is non-zero\n",
      "WARNING *** OLE2 inconsistency: SSCS size is 0 but SSAT size is non-zero\n",
      "WARNING *** OLE2 inconsistency: SSCS size is 0 but SSAT size is non-zero\n",
      "WARNING *** OLE2 inconsistency: SSCS size is 0 but SSAT size is non-zero\n",
      "WARNING *** OLE2 inconsistency: SSCS size is 0 but SSAT size is non-zero\n",
      "WARNING *** OLE2 inconsistency: SSCS size is 0 but SSAT size is non-zero\n",
      "Arquivos Lidos com sucesso!!!...\n"
     ]
    }
   ],
   "source": [
    "import pandas as pd\n",
    "import numpy as np\n",
    "#dir_dba = r'E:\\MEGA\\PMMG\\MySql\\10 - Tbl_dimensao\\pdca\\tbl_base_PDCA_2020.xls'#Home\n",
    "dir_dba = r'C:\\Users\\Geo\\Documents\\MEGAsync\\MySql\\10 - Tbl_dimensao\\pdca\\tbl_base_PDCA_2020.xls'#Office\n",
    "df_ocorrencias = pd.read_excel(dir_dba, sheet_name='tbl_ocorrencias')\n",
    "df_armas_fgo = pd.read_excel(dir_dba, sheet_name='tbl_armas_fgo')\n",
    "df_envolvidos = pd.read_excel(dir_dba, sheet_name='tbl_envolvidos')\n",
    "df_veiculos = pd.read_excel(dir_dba, sheet_name='tbl_veiculos')\n",
    "df_materiais = pd.read_excel(dir_dba, sheet_name='tbl_materiais')\n",
    "df_infracoes = pd.read_excel(dir_dba, sheet_name='tbl_infracoes')\n",
    "df_integrantes = pd.read_excel(dir_dba, sheet_name='tbl_integrantes')\n",
    "print(\"Arquivos Lidos com sucesso!!!...\")\n"
   ]
  },
  {
   "cell_type": "code",
   "execution_count": 6,
   "metadata": {},
   "outputs": [
    {
     "data": {
      "text/plain": [
       "Index(['NÚMERO_REDS', 'ÓRGÃO_UNIDADE_REGISTRO', 'UNIDADE_ÁREA_MILITAR',\n",
       "       'UNID_REGISTRO_NÍVEL_6', 'CÓDIGO_SUBCLASSE_NAT_PRINCIPAL',\n",
       "       'TENTADO/CONSUMADO_NAT_PRINCIPAL', 'LOGRADOURO_OCORRÊNCIA_-_TIPO',\n",
       "       'LOGRADOURO_OCORRÊNCIA', 'LOGRADOURO_OCORRÊNCIA_NÃO_CADASTRADO',\n",
       "       'LOGRADOURO_CRUZAMENTO', 'LOGRADOURO_CRUZAMENTO_NÃO_CADASTRADO',\n",
       "       'NÚMERO_LOGRADOURO', 'BAIRRO', 'BAIRRO_NÃO_CADASTRADO',\n",
       "       'COMPLEMENTO_ENDEREÇO', 'PONTO_DE_REFERÊNCIA', 'MUNICÍPIO', 'LATITUDE',\n",
       "       'LONGITUDE', 'SITUAÇÃO_ARMA', 'TIPO_ARMA', 'DATA_FATO', 'HORÁRIO_FATO',\n",
       "       'QTDE__ARMAS_DE_FOGO'],\n",
       "      dtype='object')"
      ]
     },
     "execution_count": 6,
     "metadata": {},
     "output_type": "execute_result"
    }
   ],
   "source": [
    "for df in [df_ocorrencias,df_armas_fgo,df_envolvidos, df_veiculos, df_materiais, df_infracoes, df_integrantes]:\n",
    "    df.columns = df.columns.str.replace(' ', '_')\n",
    "    df.columns = df.columns.str.upper()\n",
    "df_armas_fgo.columns"
   ]
  },
  {
   "cell_type": "code",
   "execution_count": null,
   "metadata": {},
   "outputs": [],
   "source": [
    "cond = ('APREENDIDO', 'RECUPERADO')\n",
    "is_tcaf = [\n",
    "            \n",
    "            df_crimes ['SITUAÇÃO_VEÍCULO']==(cond)\n",
    "    \n",
    "           ]\n",
    "\n",
    "df_crimes['TCAF'] = np.select(is_tcaf, [1], default=0)"
   ]
  },
  {
   "cell_type": "code",
   "execution_count": null,
   "metadata": {},
   "outputs": [],
   "source": []
  },
  {
   "cell_type": "code",
   "execution_count": null,
   "metadata": {},
   "outputs": [],
   "source": [
    "cond = ('B01121', 'C01157', 'C01158', 'C01159',  'D01213', 'E03015')\n",
    "meio_utilizado = ('ARMA DE FOGO', 'ARMAS DE FOGO')\n",
    "is_tcaf = [\n",
    "            (df_crimes ['Código Subclasse Nat Principal'].isin(cond)) &\n",
    "            (df_crimes ['Descrição Meio Utilizado'].isin(meio_utilizado))\n",
    "           ]\n",
    "\n",
    "df_crimes['TCAF'] = np.select(is_tcaf, [1], default=0)"
   ]
  },
  {
   "cell_type": "code",
   "execution_count": null,
   "metadata": {},
   "outputs": [],
   "source": [
    "cond = ('APREENDIDO', 'RECUPERADO')\n",
    "is_tcaf = [\n",
    "            df_crimes ['SITUAÇÃO_VEÍCULO']==(cond)\n",
    "           ]\n",
    "\n",
    "df_crimes['TCAF'] = np.select(is_tcaf, [1], default=0)"
   ]
  }
 ],
 "metadata": {
  "kernelspec": {
   "display_name": "Python 3",
   "language": "python",
   "name": "python3"
  },
  "language_info": {
   "codemirror_mode": {
    "name": "ipython",
    "version": 3
   },
   "file_extension": ".py",
   "mimetype": "text/x-python",
   "name": "python",
   "nbconvert_exporter": "python",
   "pygments_lexer": "ipython3",
   "version": "3.7.7"
  }
 },
 "nbformat": 4,
 "nbformat_minor": 4
}
