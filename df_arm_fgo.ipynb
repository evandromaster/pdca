{
 "cells": [
  {
   "cell_type": "code",
   "execution_count": 5,
   "metadata": {},
   "outputs": [],
   "source": [
    "%run -i funcs.py\n",
    "import pandas  as pd\n",
    "# import funcs\n",
    "# from funcs import var"
   ]
  },
  {
   "cell_type": "code",
   "execution_count": 6,
   "metadata": {
    "scrolled": true
   },
   "outputs": [
    {
     "name": "stdout",
     "output_type": "stream",
     "text": [
      "WARNING *** OLE2 inconsistency: SSCS size is 0 but SSAT size is non-zero\n",
      "WARNING *** OLE2 inconsistency: SSCS size is 0 but SSAT size is non-zero\n",
      "WARNING *** OLE2 inconsistency: SSCS size is 0 but SSAT size is non-zero\n",
      "WARNING *** OLE2 inconsistency: SSCS size is 0 but SSAT size is non-zero\n",
      "WARNING *** OLE2 inconsistency: SSCS size is 0 but SSAT size is non-zero\n",
      "WARNING *** OLE2 inconsistency: SSCS size is 0 but SSAT size is non-zero\n",
      "WARNING *** OLE2 inconsistency: SSCS size is 0 but SSAT size is non-zero\n"
     ]
    },
    {
     "data": {
      "text/plain": [
       "Index(['NÚMERO_REDS', 'ÓRGÃO_UNIDADE_REGISTRO', 'UNIDADE_ÁREA_MILITAR',\n",
       "       'UNID_REGISTRO_NÍVEL_6', 'CÓDIGO_SUBCLASSE_NAT_PRINCIPAL',\n",
       "       'TENTADO/CONSUMADO_NAT_PRINCIPAL', 'LOGRADOURO_OCORRÊNCIA_-_TIPO',\n",
       "       'LOGRADOURO_OCORRÊNCIA', 'LOGRADOURO_OCORRÊNCIA_NÃO_CADASTRADO',\n",
       "       'LOGRADOURO_CRUZAMENTO', 'LOGRADOURO_CRUZAMENTO_NÃO_CADASTRADO',\n",
       "       'NÚMERO_LOGRADOURO', 'BAIRRO', 'BAIRRO_NÃO_CADASTRADO',\n",
       "       'COMPLEMENTO_ENDEREÇO', 'PONTO_DE_REFERÊNCIA', 'MUNICÍPIO', 'LATITUDE',\n",
       "       'LONGITUDE', 'SITUAÇÃO_ARMA', 'TIPO_ARMA', 'DATA_FATO', 'HORÁRIO_FATO',\n",
       "       'QTDE__ARMAS_DE_FOGO'],\n",
       "      dtype='object')"
      ]
     },
     "execution_count": 6,
     "metadata": {},
     "output_type": "execute_result"
    }
   ],
   "source": [
    "df_ocorrencias,df_armas_fgo,df_envolvidos,df_veiculos,df_materiais,df_infracoes,df_integrantes = read_sheets()\n",
    "columns()\n",
    "df_armas_fgo.columns"
   ]
  },
  {
   "cell_type": "code",
   "execution_count": 14,
   "metadata": {},
   "outputs": [],
   "source": [
    "sit_arma = ('APREENDIDO', 'RECUPERADO')\n",
    "tipo_arma = ('REVOLVER', 'GARRUCHA', 'ESPINGARDA POLVEIRA', 'ESPINGARDA / ESCOPETA', 'CARABINA / RIFLE', 'PISTOLA', 'OUTROS - TIPO DE ARMA')\n",
    "df_armas_fgo = df_armas_fgo.loc[\n",
    "    (df_armas_fgo['SITUAÇÃO_ARMA'].isin(sit_arma)) &\n",
    "    (df_armas_fgo['TIPO_ARMA'].isin(tipo_arma))\n",
    "]"
   ]
  },
  {
   "cell_type": "code",
   "execution_count": 17,
   "metadata": {},
   "outputs": [
    {
     "data": {
      "text/html": [
       "<div>\n",
       "<style scoped>\n",
       "    .dataframe tbody tr th:only-of-type {\n",
       "        vertical-align: middle;\n",
       "    }\n",
       "\n",
       "    .dataframe tbody tr th {\n",
       "        vertical-align: top;\n",
       "    }\n",
       "\n",
       "    .dataframe thead th {\n",
       "        text-align: right;\n",
       "    }\n",
       "</style>\n",
       "<table border=\"1\" class=\"dataframe\">\n",
       "  <thead>\n",
       "    <tr style=\"text-align: right;\">\n",
       "      <th></th>\n",
       "      <th>NÚMERO_REDS</th>\n",
       "      <th>QTDE__ARMAS_DE_FOGO</th>\n",
       "    </tr>\n",
       "  </thead>\n",
       "  <tbody>\n",
       "    <tr>\n",
       "      <th>0</th>\n",
       "      <td>2020-031565420-001</td>\n",
       "      <td>1</td>\n",
       "    </tr>\n",
       "    <tr>\n",
       "      <th>1</th>\n",
       "      <td>2020-031660254-001</td>\n",
       "      <td>1</td>\n",
       "    </tr>\n",
       "    <tr>\n",
       "      <th>2</th>\n",
       "      <td>2020-031662582-001</td>\n",
       "      <td>2</td>\n",
       "    </tr>\n",
       "    <tr>\n",
       "      <th>3</th>\n",
       "      <td>2020-031692169-001</td>\n",
       "      <td>1</td>\n",
       "    </tr>\n",
       "    <tr>\n",
       "      <th>4</th>\n",
       "      <td>2020-031711232-001</td>\n",
       "      <td>1</td>\n",
       "    </tr>\n",
       "    <tr>\n",
       "      <th>...</th>\n",
       "      <td>...</td>\n",
       "      <td>...</td>\n",
       "    </tr>\n",
       "    <tr>\n",
       "      <th>58</th>\n",
       "      <td>2020-036257840-001</td>\n",
       "      <td>1</td>\n",
       "    </tr>\n",
       "    <tr>\n",
       "      <th>59</th>\n",
       "      <td>2020-036353130-001</td>\n",
       "      <td>2</td>\n",
       "    </tr>\n",
       "    <tr>\n",
       "      <th>60</th>\n",
       "      <td>2020-036372741-001</td>\n",
       "      <td>1</td>\n",
       "    </tr>\n",
       "    <tr>\n",
       "      <th>61</th>\n",
       "      <td>2020-036376740-001</td>\n",
       "      <td>2</td>\n",
       "    </tr>\n",
       "    <tr>\n",
       "      <th>62</th>\n",
       "      <td>2020-036449850-001</td>\n",
       "      <td>1</td>\n",
       "    </tr>\n",
       "  </tbody>\n",
       "</table>\n",
       "<p>63 rows × 2 columns</p>\n",
       "</div>"
      ],
      "text/plain": [
       "           NÚMERO_REDS  QTDE__ARMAS_DE_FOGO\n",
       "0   2020-031565420-001                    1\n",
       "1   2020-031660254-001                    1\n",
       "2   2020-031662582-001                    2\n",
       "3   2020-031692169-001                    1\n",
       "4   2020-031711232-001                    1\n",
       "..                 ...                  ...\n",
       "58  2020-036257840-001                    1\n",
       "59  2020-036353130-001                    2\n",
       "60  2020-036372741-001                    1\n",
       "61  2020-036376740-001                    2\n",
       "62  2020-036449850-001                    1\n",
       "\n",
       "[63 rows x 2 columns]"
      ]
     },
     "execution_count": 17,
     "metadata": {},
     "output_type": "execute_result"
    }
   ],
   "source": [
    "df_armas_fgo = pd.pivot_table(df_armas_fgo,\n",
    "               index=['NÚMERO_REDS'], \n",
    "               values=['QTDE__ARMAS_DE_FOGO'], \n",
    "               #columns=['MES'],\n",
    "               fill_value=0,\n",
    "               aggfunc=np.sum, \n",
    "               #margins=True, \n",
    "               #margins_name='Total Geral',\n",
    "               #observed = True     \n",
    "\n",
    "              ).reset_index()\n",
    "df_armas_fgo"
   ]
  }
 ],
 "metadata": {
  "kernelspec": {
   "display_name": "Python 3",
   "language": "python",
   "name": "python3"
  },
  "language_info": {
   "codemirror_mode": {
    "name": "ipython",
    "version": 3
   },
   "file_extension": ".py",
   "mimetype": "text/x-python",
   "name": "python",
   "nbconvert_exporter": "python",
   "pygments_lexer": "ipython3",
   "version": "3.7.6"
  }
 },
 "nbformat": 4,
 "nbformat_minor": 4
}
