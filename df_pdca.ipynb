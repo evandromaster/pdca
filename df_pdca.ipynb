{
 "cells": [
  {
   "cell_type": "code",
   "execution_count": 1,
   "metadata": {},
   "outputs": [],
   "source": [
    "%run -i funcoes_pdca.py\n",
    "import pandas  as pd\n",
    "# import funcs\n",
    "# from funcs import var"
   ]
  },
  {
   "cell_type": "code",
   "execution_count": 2,
   "metadata": {
    "scrolled": true
   },
   "outputs": [
    {
     "name": "stdout",
     "output_type": "stream",
     "text": [
      "WARNING *** OLE2 inconsistency: SSCS size is 0 but SSAT size is non-zero\n",
      "WARNING *** OLE2 inconsistency: SSCS size is 0 but SSAT size is non-zero\n",
      "WARNING *** OLE2 inconsistency: SSCS size is 0 but SSAT size is non-zero\n",
      "WARNING *** OLE2 inconsistency: SSCS size is 0 but SSAT size is non-zero\n",
      "WARNING *** OLE2 inconsistency: SSCS size is 0 but SSAT size is non-zero\n",
      "WARNING *** OLE2 inconsistency: SSCS size is 0 but SSAT size is non-zero\n",
      "WARNING *** OLE2 inconsistency: SSCS size is 0 but SSAT size is non-zero\n"
     ]
    },
    {
     "data": {
      "text/plain": [
       "Index(['NÚMERO_REDS', 'ÓRGÃO_UNIDADE_REGISTRO', 'UNIDADE_ÁREA_MILITAR',\n",
       "       'UNIDADE_RELATO_NÍVEL_6', 'UNID_DIGITAÇÃO_NÍVEL_6',\n",
       "       'UNID_REGISTRO_NÍVEL_6', 'CÓDIGO_SUBCLASSE_NAT_PRINCIPAL',\n",
       "       'TENTADO/CONSUMADO_NAT_PRINCIPAL', 'CÓDIGO_SUBCLASSE_NAT_SEC1',\n",
       "       'TENTADO/CONSUMADO_NAT_SEC1', 'CÓDIGO_SUBCLASSE_NAT_SEC2',\n",
       "       'TENTADO/CONSUMADO_NAT_SEC2', 'CÓDIGO_SUBCLASSE_NAT_SEC3',\n",
       "       'TENTADO/CONSUMADO_NAT_SEC3', 'ALVO', 'DESCRIÇÃO_MEIO_UTILIZADO',\n",
       "       'DATA_COMUNICAÇÃO_FATO', 'HORÁRIO_COMUNICAÇÃO_FATO', 'DATA_FATO',\n",
       "       'HORÁRIO_FATO', 'DATA_HORA_INCLUSÃO_REDS', 'DATA_HORA_FECHAMENTO_REDS',\n",
       "       'DATA_ÚLTIMA_ATUALIZAÇÃO', 'LOGRADOURO_OCORRÊNCIA_-_TIPO',\n",
       "       'LOGRADOURO_OCORRÊNCIA', 'LOGRADOURO_OCORRÊNCIA_NÃO_CADASTRADO',\n",
       "       'LOGRADOURO_CRUZAMENTO', 'LOGRADOURO_CRUZAMENTO_NÃO_CADASTRADO',\n",
       "       'NÚMERO_LOGRADOURO', 'BAIRRO', 'BAIRRO_NÃO_CADASTRADO',\n",
       "       'COMPLEMENTO_ENDEREÇO', 'PONTO_DE_REFERÊNCIA', 'MUNICÍPIO', 'LATITUDE',\n",
       "       'LONGITUDE', 'MATRÍCULA_DIGITADOR', 'CARGO_RELATOR', 'NOME_RELATOR',\n",
       "       'MATRÍCULA_RELATOR', 'TIPO_VIATURA', 'NÚMERO_REGISTRO_VIATURA',\n",
       "       'QTDE_OCORRÊNCIAS'],\n",
       "      dtype='object')"
      ]
     },
     "execution_count": 2,
     "metadata": {},
     "output_type": "execute_result"
    }
   ],
   "source": [
    "df_ocorrencias,df_armas_fgo,df_envolvidos,df_veiculos,df_materiais,df_infracoes,df_integrantes = read_sheets()\n",
    "columns()\n",
    "df_ocorrencias.columns"
   ]
  },
  {
   "cell_type": "code",
   "execution_count": null,
   "metadata": {},
   "outputs": [],
   "source": [
    "df_ocorrencias['TEMPO_MÉDIO_ATENDIMENTO'].mean()"
   ]
  },
  {
   "cell_type": "code",
   "execution_count": 10,
   "metadata": {},
   "outputs": [
    {
     "data": {
      "text/plain": [
       "['279 CIA PM', '60 BPM', '7 RPM']"
      ]
     },
     "execution_count": 10,
     "metadata": {},
     "output_type": "execute_result"
    }
   ],
   "source": [
    "df_ocorrencias['REGIAO'] = df_ocorrencias['UNID_REGISTRO_NÍVEL_6'].str.split(\"/\", n = 2, expand = False)\n",
    "#df_ocor['CIA'] = cia[0]\n",
    "#df_ocorrencias['REGIAO'][3][-1]\n",
    "df_ocorrencias['REGIAO'][0]\n",
    "    #cia = df_ocor['UNID_REGISTRO_NÍVEL_6'].str.split(\"/\", n = 1, expand = True)\n",
    "    #df_ocor['CIA'] = cia[0]\n",
    "\n",
    "\n"
   ]
  },
  {
   "cell_type": "code",
   "execution_count": null,
   "metadata": {},
   "outputs": [],
   "source": [
    "# Tratamento do Universo ocorrências\n",
    "ueop(df_ocorrencias) # insere a coluna UEOP\n",
    "cia(df_ocorrencias) # insere a coluna  companhia\n",
    "df_ocorrencias['UEOP_REGISTRO'] = df_ocorrencias.apply(lambda row: ueop_cia_registro(row), axis=1)# insere a coluna  companhia\n",
    "df_ocorrencias = df_ocorrencias[['NÚMERO_REDS','UNID_REGISTRO_NÍVEL_6', 'CARGO_RELATOR', 'NOME_RELATOR',\\\n",
    "                                 'MATRÍCULA_RELATOR','MUNICÍPIO','CIA', 'UEOP','UEOP_REGISTRO',\\\n",
    "                                 'QTDE_OCORRÊNCIAS','TEMPO_MÉDIO_ATENDIMENTO','TEMPO_MÉDIO_PREENCHIMENTO']] # filtra para deixar apenas  os campos indipensaveis"
   ]
  },
  {
   "cell_type": "code",
   "execution_count": null,
   "metadata": {},
   "outputs": [],
   "source": [
    "# conds=[\n",
    "#     df_ocorrencias['MUNICÍPIO'].isin(['ABAETE','BIQUINHAS','BOM DESPACHO','CEDRO DO ABAETE','CORREGO DANTA',\n",
    "#         'DORES DO INDAIA','ESTRELA DO INDAIA','JAPARAIBA','LAGOA DA PRATA','LUZ','MARTINHO CAMPOS','MOEMA',\n",
    "#         'MORADA NOVA DE MINAS','PAINEIRAS','PEDRA DO INDAIA','POMPEU','QUARTEL GERAL','SANTO ANTONIO DO MONTE',\n",
    "#         'SERRA DA SAUDADE']),\n",
    "#     df_ocorrencias['MUNICÍPIO'].isin(['CARMO DO CAJURU','CLAUDIO','DIVINOPOLIS','ITATIAIUCU','ITAUNA','SAO GONCALO DO PARA']),\n",
    "#     df_ocorrencias['MUNICÍPIO'].isin(['ARAUJOS','CONCEICAO DO PARA','LEANDRO FERREIRA','NOVA SERRANA','PERDIGAO','PITANGUI']),\n",
    "#     df_ocorrencias['MUNICÍPIO'].isin(['ARCOS','BAMBUI','CAMACHO','CORREGO FUNDO','FORMIGA','IGUATAMA','ITAPECERICA','MEDEIROS','PAINS','PIMENTA','SAO SEBASTIAO DO OESTE','TAPIRAI']),\n",
    "#     df_ocorrencias['MUNICÍPIO'].isin(['IGARATINGA','MARAVILHAS','ONCA DO PITANGUI','PAPAGAIOS','PARA DE MINAS','PEQUI','SAO JOSE DA VARGINHA']),\n",
    "# ]\n",
    "# res=['07º BPM','23º BPM','60º BPM','63º BPM','19ª CIA PM IND']\n",
    "\n",
    "# df_ocorrencias['UEOP0'] = np.select(conds,res,default='other')"
   ]
  },
  {
   "cell_type": "code",
   "execution_count": null,
   "metadata": {},
   "outputs": [],
   "source": [
    "#df_ocorrencias[df_ocorrencias['UEOP0'] == '7 CIA PM IND PE']\n"
   ]
  },
  {
   "cell_type": "code",
   "execution_count": null,
   "metadata": {},
   "outputs": [],
   "source": [
    "# Tratamento do Universo Armas de Fogo\n",
    "sit_arma = ('APREENDIDO', 'RECUPERADO')\n",
    "tipo_arma = ('REVOLVER', 'GARRUCHA', 'ESPINGARDA POLVEIRA', 'ESPINGARDA / ESCOPETA', 'CARABINA / RIFLE', 'PISTOLA', 'OUTROS - TIPO DE ARMA')\n",
    "df_armas_fgo = df_armas_fgo.loc[\n",
    "    (df_armas_fgo['SITUAÇÃO_ARMA'].isin(sit_arma)) &\n",
    "    (df_armas_fgo['TIPO_ARMA'].isin(tipo_arma))\n",
    "]\n",
    "\n",
    "df_armas_fgo = pd.pivot_table(df_armas_fgo,\n",
    "               index=['NÚMERO_REDS'], \n",
    "               values=['QTDE__ARMAS_DE_FOGO'], \n",
    "               #columns=['MES'],\n",
    "               fill_value=0,\n",
    "               aggfunc=np.sum, \n",
    "               #margins=True, \n",
    "               #margins_name='Total Geral',\n",
    "               #observed = True     \n",
    "\n",
    "              ).reset_index()"
   ]
  },
  {
   "cell_type": "code",
   "execution_count": null,
   "metadata": {},
   "outputs": [],
   "source": [
    "# Tratamento do Universo materiais\n",
    "#DESABILITADOdf_materiais['QTDE_MAT'] = df_materiais['QTDE_MATERIAIS']*df_materiais['QTDE/VOLUME_MATERIAL']# calcula a qtde de materiais\n",
    "df_materiais['MATPDCA'] = df_materiais.apply(lambda row: mat_group(row), axis=1)# verifica  os tipos de materiais apreendidos\n",
    "\n",
    "df_materiais = pd.pivot_table(df_materiais,\n",
    "            index=['NÚMERO_REDS'], \n",
    "            values='QTDE/VOLUME_MATERIAL', \n",
    "            columns=['MATPDCA'],\n",
    "            fill_value=0,\n",
    "            aggfunc=np.sum, \n",
    "            #margins=True, \n",
    "            #margins_name='Total Geral',\n",
    "            #observed = True     \n",
    "\n",
    "            ).reset_index()#Pivot table da  tabela  de materiais"
   ]
  },
  {
   "cell_type": "code",
   "execution_count": null,
   "metadata": {},
   "outputs": [],
   "source": [
    "# Tratamento do Universo Envolvidos\n",
    "df_envolvidos['PRISOES'] = df_envolvidos.apply(lambda row: prisoes(row), axis=1) #Cria coluna com o tipo  de cada prisao especificada para computo do PDCA\n",
    "df_envolvidos = pd.pivot_table(df_envolvidos,\n",
    "               index=['NÚMERO_REDS'], \n",
    "               values='QTDE_ENVOLVIDOS', \n",
    "               columns=['PRISOES'],\n",
    "               fill_value=0,\n",
    "               aggfunc=np.sum, \n",
    "               #margins=True, \n",
    "               #margins_name='Total Geral',\n",
    "               #observed = True     \n",
    "\n",
    "              ).reset_index() #Pivot table da  tabela  de envolvidos"
   ]
  },
  {
   "cell_type": "code",
   "execution_count": null,
   "metadata": {},
   "outputs": [],
   "source": [
    "# Tratamento do Universo Infrações\n",
    "\n",
    "df_infracoes = pd.pivot_table(df_infracoes,\n",
    "               index=['NÚMERO_REDS'], \n",
    "               values='QTDE_INFRAÇÕES', \n",
    "               #columns=['PRISOES'],\n",
    "               fill_value=0,\n",
    "               aggfunc=np.sum, \n",
    "               #margins=True, \n",
    "               #margins_name='Total Geral',\n",
    "               #observed = True     \n",
    "\n",
    "              ).reset_index()"
   ]
  },
  {
   "cell_type": "code",
   "execution_count": null,
   "metadata": {},
   "outputs": [],
   "source": [
    "# Tratamento do Universo Integrantes\n",
    "df_integrantes = pd.pivot_table(df_integrantes,\n",
    "               index=['NÚMERO_REDS'], \n",
    "               values='QTDE_INTEGRANTES_GUARNIÇÃO', \n",
    "               #columns=['PRISOES'],\n",
    "               fill_value=0,\n",
    "               aggfunc=np.sum, \n",
    "               #margins=True, \n",
    "               #margins_name='Total Geral',\n",
    "               #observed = True     \n",
    "\n",
    "              ).reset_index()"
   ]
  },
  {
   "cell_type": "code",
   "execution_count": null,
   "metadata": {},
   "outputs": [],
   "source": [
    "# Tratamento do Universo Veículos\n",
    "sit_veic = ('APREENDIDO', 'RECUPERADO', 'REMOVIDO')\n",
    "df_veiculos = df_veiculos.loc[df_veiculos['SITUAÇÃO_VEÍCULO'].isin(sit_veic)]\n",
    "\n",
    "df_veiculos = pd.pivot_table(df_veiculos,\n",
    "               index=['NÚMERO_REDS'], \n",
    "               values='QTDE_VEÍCULOS', \n",
    "               columns=['SITUAÇÃO_VEÍCULO'],\n",
    "               fill_value=0,\n",
    "               aggfunc=np.sum, \n",
    "               #margins=True, \n",
    "               #margins_name='Total Geral',\n",
    "               #observed = True     \n",
    "\n",
    "              ).reset_index()\n",
    "\n",
    "df_veiculos = df_veiculos.rename(columns={  'APREENDIDO' : 'VEIC_APREENDIDO',\n",
    "                                            'RECUPERADO' : 'VEIC_RECUPERADO',\n",
    "                                            'REMOVIDO'   : 'VEIC_REMOVIDO',\n",
    "                                            })"
   ]
  },
  {
   "cell_type": "code",
   "execution_count": null,
   "metadata": {},
   "outputs": [],
   "source": [
    "# Tratamento de todos  Universos\n",
    "#index_nreds()\n",
    "\n",
    "df_ocorrencias.set_index(['NÚMERO_REDS'], inplace=True)\n",
    "df_armas_fgo.set_index('NÚMERO_REDS', inplace=True)\n",
    "df_envolvidos.set_index('NÚMERO_REDS', inplace=True)\n",
    "df_veiculos.set_index('NÚMERO_REDS', inplace=True)\n",
    "df_materiais.set_index('NÚMERO_REDS', inplace=True)\n",
    "df_infracoes.set_index('NÚMERO_REDS', inplace=True)\n",
    "df_integrantes.set_index('NÚMERO_REDS', inplace=True)\n",
    "df_pdca = pd.concat([df_ocorrencias,df_armas_fgo,df_envolvidos,df_veiculos,df_materiais,df_infracoes,df_integrantes], axis=1)\n",
    "\n",
    "df_pdca.fillna(0, inplace=True)#SUBSTITUI VALORES AUSENTES POR 0\n",
    "\n",
    "\n",
    "\n"
   ]
  },
  {
   "cell_type": "code",
   "execution_count": null,
   "metadata": {
    "scrolled": true
   },
   "outputs": [],
   "source": [
    "excluir_unidades = ['1 CIA PM IND (NOVA LIMA)/3 RPM','1 CIA ROTAM/BTL ROTAM/CPE','10 CIA PM/5 BPM/1 RPM','11 CIA PM/41 BPM/1 RPM',\n",
    "'174 CIA PM/33 BPM/2 RPM','2 CIA PM RV/BPMRV/CPRV','2 CIA ROTAM/BTL ROTAM/CPE','21 CIA PM/34 BPM/1 RPM',\n",
    "'229 CIA TM/48 BPM/2 RPM','23 CIA PM/16 BPM/1 RPM','233 CIA PM/44 BPM/15 RPM','5 CIA PM/1 BPM/1 RPM',\n",
    "'6 CIA PM/1 BPM/1 RPM','7 CIA PM IND/2 RPM','7 CIA PM MAMB/BPM MAMB/CPMAMB','7 CIA PM RV/BPMRV/CPRV',\n",
    "'8 CIA PM IND/3 RPM','9 CIA PM/34 BPM/1 RPM', '5 PEL/1 CIA PM IND/3 RPM']\n",
    "\n",
    "\n",
    "df_pdca = df_pdca[~df_pdca['UNID_REGISTRO_NÍVEL_6'].isin(excluir_unidades)] \n",
    "#df_pdca"
   ]
  },
  {
   "cell_type": "code",
   "execution_count": null,
   "metadata": {
    "scrolled": false
   },
   "outputs": [],
   "source": [
    "# Tratamento do resultado PDCA\n",
    "\n",
    "df_pdca.reset_index(inplace=True)\n",
    "\n",
    "df_pdca = df_pdca.rename(columns={'index' : 'NÚMERO_REDS'})\n",
    "\n",
    "#df_pdca.T # or df1.transpose()\n"
   ]
  },
  {
   "cell_type": "code",
   "execution_count": null,
   "metadata": {},
   "outputs": [],
   "source": [
    "df_ueop = pd.pivot_table(df_pdca,\n",
    "               index=['UEOP'], \n",
    "               values=df_pdca.iloc[:, 9:42].columns, \n",
    "               #columns=['UEOP'],\n",
    "               fill_value=0,\n",
    "               aggfunc=np.sum, \n",
    "               #margins=True, \n",
    "               #margins_name='Total Geral',\n",
    "               #observed = True     \n",
    "\n",
    "              ).reset_index().T\n",
    "#df_pdca.drop(['MATRÍCULA_RELATOR'], axis=1)\n",
    "df_ueop"
   ]
  },
  {
   "cell_type": "code",
   "execution_count": null,
   "metadata": {},
   "outputs": [],
   "source": [
    "#df_pdca.iloc[:, 9:42].columns\n",
    "df_ueop.iloc[29:30, :]/ 1492#/df_ueop.iloc[26:27, :]\n",
    "\n"
   ]
  },
  {
   "cell_type": "code",
   "execution_count": null,
   "metadata": {},
   "outputs": [],
   "source": [
    "df_cia = pd.pivot_table(df_pdca,\n",
    "               index=['UEOP_REGISTRO','CIA'], \n",
    "               values=df_pdca.iloc[:, 9:42].columns, \n",
    "               #columns=['UEOP'],\n",
    "               fill_value=0,\n",
    "               aggfunc=np.sum, \n",
    "               #margins=True, \n",
    "               #margins_name='Total Geral',\n",
    "               #observed = True     \n",
    "\n",
    "              ).reset_index().T\n",
    "\n",
    "\n",
    "\n"
   ]
  },
  {
   "cell_type": "code",
   "execution_count": null,
   "metadata": {},
   "outputs": [],
   "source": [
    "df_ueop_registro = pd.pivot_table(df_pdca,\n",
    "               index=['UEOP_REGISTRO'], \n",
    "               values=df_pdca.iloc[:, 9:42].columns, \n",
    "               #columns=['SITUAÇÃO_VEÍCULO'],\n",
    "               fill_value=0,\n",
    "               aggfunc=np.sum, \n",
    "               #margins=True, \n",
    "               #margins_name='Total Geral',\n",
    "               #observed = True     \n",
    "\n",
    "              ).reset_index().T"
   ]
  },
  {
   "cell_type": "code",
   "execution_count": null,
   "metadata": {},
   "outputs": [],
   "source": [
    "#result = r\"C:\\Users\\Luísa\\Desktop\\df_produtividade.xlsx\" \n",
    "result = r\"C:\\Users\\Geo\\Desktop\\df_produtividade.xlsx\" \n",
    "with pd.ExcelWriter(result) as save:\n",
    "    df_pdca.to_excel(save, sheet_name='PDCA')\n",
    "    df_ueop.to_excel(save, sheet_name='UEOP')\n",
    "    df_cia.to_excel(save, sheet_name='CIA')\n",
    "    df_ueop_registro.to_excel(save, sheet_name='UEOP_REGISTRO')"
   ]
  },
  {
   "cell_type": "code",
   "execution_count": null,
   "metadata": {},
   "outputs": [],
   "source": [
    "# Import pandas package \n",
    "import pandas as pd \n",
    "\t\n",
    "# Define a dictionary containing employee data \n",
    "data = {'Name':['Jai', 'Princi', 'Gaurav', 'Anuj', 'Geeku'], \n",
    "\t\t'Age':[27, 24, 22, 32, 15], \n",
    "\t\t'Address':['Delhi', 'Kanpur', 'Allahabad', 'Kannauj', 'Noida'], \n",
    "\t\t'Qualification':['Msc', 'MA', 'MCA', 'Phd', '10th'] } \n",
    "\n",
    "# Create own index \n",
    "index = {'a', 'b', 'c', 'd', 'e'} \n",
    "\n",
    "# Convert the dictionary into DataFrame \n",
    "df = pd.DataFrame(data, index) \n",
    "\n",
    "# set any column as index \n",
    "# Here we set age column as index \n",
    "df.set_index(['Age'], inplace = True) \n",
    "\n",
    "# reset index without removing default index \n",
    "df.reset_index(level =['Age'], inplace = True) \n",
    "\n",
    "df \n"
   ]
  }
 ],
 "metadata": {
  "kernelspec": {
   "display_name": "Python 3",
   "language": "python",
   "name": "python3"
  },
  "language_info": {
   "codemirror_mode": {
    "name": "ipython",
    "version": 3
   },
   "file_extension": ".py",
   "mimetype": "text/x-python",
   "name": "python",
   "nbconvert_exporter": "python",
   "pygments_lexer": "ipython3",
   "version": "3.7.6"
  }
 },
 "nbformat": 4,
 "nbformat_minor": 4
}
